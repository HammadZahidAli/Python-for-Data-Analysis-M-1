{
 "cells": [
  {
   "cell_type": "markdown",
   "metadata": {},
   "source": [
    "# Hope you following contents with great passion!\n",
    "\n",
    "It is nice from you. \n",
    "\n",
    "Now we have to some overview of matplotlib and some small real exercises to do.\n",
    "\n",
    "<b>1-</b> We will do Cognitive Class Survey Data Analysis: \n",
    "<b>\"Last week we ran a Data Science survey asking four simple questions to our community. In this post, I’ll show you the results of our survey and provide you with a Jupyter notebook; just in case you want to play with the data yourself.\"</b>\n",
    "<b><em>DISCLAIMER</em></b>\n",
    "2,233 people participated in the survey. This is a statistically significant participation for our students, but not the Data Science community in general. Among other factors, the Cognitive Class’ catalog of courses influences who we attract to our site and ultimately who responded to the survey.\n",
    "#### https://cognitiveclass.ai/\n",
    "\n",
    "<b>2-</b> The data set has been taken from UCI Machine Learning Repository. In this data set, the dependent variable is \"target.\" It is a binary classification problem.<b><em> We need to predict if the salary of a given person is less than or more than 50K.</em></b>\n",
    "#### https://archive.ics.uci.edu/ml/datasets/adult"
   ]
  },
  {
   "cell_type": "code",
   "execution_count": null,
   "metadata": {
    "collapsed": true
   },
   "outputs": [],
   "source": []
  }
 ],
 "metadata": {
  "kernelspec": {
   "display_name": "Python 3",
   "language": "python",
   "name": "python3"
  },
  "language_info": {
   "codemirror_mode": {
    "name": "ipython",
    "version": 3
   },
   "file_extension": ".py",
   "mimetype": "text/x-python",
   "name": "python",
   "nbconvert_exporter": "python",
   "pygments_lexer": "ipython3",
   "version": "3.6.0"
  }
 },
 "nbformat": 4,
 "nbformat_minor": 2
}
