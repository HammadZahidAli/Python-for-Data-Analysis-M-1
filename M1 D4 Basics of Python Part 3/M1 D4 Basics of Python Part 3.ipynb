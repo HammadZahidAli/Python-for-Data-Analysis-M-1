{
 "cells": [
  {
   "cell_type": "markdown",
   "metadata": {},
   "source": [
    "# Welcome to last basics bootcamp lecture \n",
    "Now we will proceed to most important fundmental programming concepts. \n",
    "\n",
    "After that we will be moving on exciting and more technical lectures on Data Analysis. \n",
    "\n",
    "Again Don't worry if you think we have missed something it is internet available and best source to polish yourself is to consult the relevant documentation. It is worthy advice* https://docs.python.org/3/\n",
    "\n",
    "\n",
    "### Guys we will not go in depth concepts but get overview \n",
    "\n",
    "Can you give answer of the following?\n",
    "#### sorted(list) versus list.sort()  \n",
    "\n",
    "Tell the Difference. Give a example.\n",
    "\n",
    "L = [23,111,334,3,0,65]\n",
    "\n"
   ]
  },
  {
   "cell_type": "code",
   "execution_count": null,
   "metadata": {
    "collapsed": false
   },
   "outputs": [],
   "source": [
    "\n",
    "\n",
    "\n",
    "\n",
    "\n"
   ]
  },
  {
   "cell_type": "markdown",
   "metadata": {},
   "source": [
    "## Classes and Objects\n",
    "\n",
    "The four major principles of object orientation are:\n",
    "\n",
    "- Encapsulation\n",
    "- Data Abstraction\n",
    "- Polymorphism\n",
    "- Inheritance\n",
    "\n",
    "Do not worry if not know about them. \n",
    "\n",
    "#### An object oriented program is based on classes and there exists a collection of interacting objects, as opposed to the conventional model, in which a program consists of functions and routines. In OOP, each object can receive messages, process data, and send messages to other objects.\n",
    "\n",
    "\n",
    "Python is an “object-oriented programming language.” This means that almost all the code is implemented using using a special construct called classes.\n",
    "\n",
    "#### What is a class?\n",
    "\n",
    "A class is a code template for creating objects. Objects have member variables and have behaviour associated with them. In python a class is created by the keyword class.\n",
    "\n",
    "\n",
    "For example, let's create a simple, empty class with no functionalities in python."
   ]
  },
  {
   "cell_type": "code",
   "execution_count": 34,
   "metadata": {
    "collapsed": false
   },
   "outputs": [],
   "source": [
    "class Person:\n",
    "    pass\n"
   ]
  },
  {
   "cell_type": "markdown",
   "metadata": {},
   "source": [
    "\n",
    "#### In Python we create instances in the following manner:\n",
    "#### Instance = class(arguments)"
   ]
  },
  {
   "cell_type": "code",
   "execution_count": 35,
   "metadata": {
    "collapsed": false
   },
   "outputs": [
    {
     "data": {
      "text/plain": [
       "__main__.Person"
      ]
     },
     "execution_count": 35,
     "metadata": {},
     "output_type": "execute_result"
    }
   ],
   "source": [
    "aslam = Person()\n",
    "type(aslam)"
   ]
  },
  {
   "cell_type": "markdown",
   "metadata": {},
   "source": [
    "You can assign the class to a variable. This is called object instantiation. You will then be able to access the attributes that are present inside the class using the dot . operator. We see example after few cells later.\n",
    "For example, What will be a simple Employee Class"
   ]
  },
  {
   "cell_type": "code",
   "execution_count": 8,
   "metadata": {
    "collapsed": false
   },
   "outputs": [],
   "source": [
    "class Employee:\n",
    "   'Common base class for all employees'\n",
    "   empCount = 0                          # Class Variable\n",
    "\n",
    "   def __init__(self, name, salary):     # init() is a special method, Python calls when you create a new instance of this class.\n",
    "      self.name = name                   # Instance Variable\n",
    "      self.salary = salary               # Instance Variable\n",
    "      Employee.empCount += 1             # Class Variable for counter \n",
    "   \n",
    "   def displayCount(self):               # method\n",
    "     print (\"Total Employee %d\" % Employee.empCount)\n",
    "\n",
    "   def displayEmployee(self):\n",
    "      print (\"Name : \", self.name,  \", Salary: \", self.salary)"
   ]
  },
  {
   "cell_type": "markdown",
   "metadata": {},
   "source": [
    "#### Lets Explain the above example of Employee Class:\n",
    "\n",
    "- The variable empCount is a class variable whose value is shared among all the instances of a in this class. This can be accessed as Employee.empCount from inside the class or outside the class.\n",
    "\n",
    "- The first method __init__() is a special method, which is called class constructor or initialization method that Python calls when you create a new instance of this class.\n",
    "\n",
    "- You declare other class methods like normal functions with the exception that the first argument to each method is self. Python adds the self argument to the list for you; you do not need to include it when you call the methods.\n",
    "\n",
    "##### To create instances of a class, you call the class using class name and pass in whatever arguments its __init__ method accepts."
   ]
  },
  {
   "cell_type": "code",
   "execution_count": 9,
   "metadata": {
    "collapsed": false
   },
   "outputs": [
    {
     "name": "stdout",
     "output_type": "stream",
     "text": [
      "Name :  Zara , Salary:  2000\n",
      "Name :  Manni , Salary:  5000\n",
      "Total Employee 2\n"
     ]
    }
   ],
   "source": [
    "# This would create first object of Employee class\n",
    "emp1 = Employee(\"Zara\", 2000)\n",
    "# This would create second object of Employee class\n",
    "emp2 = Employee(\"Manni\", 5000)\n",
    "\n",
    "\n",
    "# You access the object's attributes using the dot operator with object. \n",
    "# Class variable would be accessed using class name as follows −\n",
    "\n",
    "emp1.displayEmployee()\n",
    "emp2.displayEmployee()\n",
    "print (\"Total Employee %d\" % Employee.empCount)"
   ]
  },
  {
   "cell_type": "markdown",
   "metadata": {},
   "source": [
    "#### Lets take a example of Dummy class C "
   ]
  },
  {
   "cell_type": "code",
   "execution_count": 14,
   "metadata": {
    "collapsed": false
   },
   "outputs": [
    {
     "name": "stdout",
     "output_type": "stream",
     "text": [
      "Number of instances: : 1\n",
      "Number of instances: : 2\n",
      "Number of instances: : 1\n",
      "Number of instances: : 0\n"
     ]
    }
   ],
   "source": [
    "# 2\n",
    "\n",
    "\n",
    "\n",
    "class C: \n",
    "\n",
    "    counter = 0\n",
    "    \n",
    "    def __init__(self): \n",
    "        type(self).counter += 1\n",
    "\n",
    "    def __del__(self):\n",
    "        type(self).counter -= 1\n",
    "\n",
    "        \n",
    "        \n",
    "        \n",
    "if __name__ == \"__main__\":                   # Starting Point Every module in python has a special attribute called __name__ . The value of __name__  attribute is set to '__main__'  when module run as main program. Otherwise the value of __name__  is set to contain the name of the module.\n",
    "    x = C()\n",
    "    print(\"Number of instances: : \" + str(C.counter))\n",
    "    y = C()\n",
    "    print(\"Number of instances: : \" + str(C.counter))\n",
    "    del x\n",
    "    print(\"Number of instances: : \" + str(C.counter))\n",
    "    del y\n",
    "    print(\"Number of instances: : \" + str(C.counter))\n",
    "\n",
    "\n"
   ]
  },
  {
   "cell_type": "code",
   "execution_count": 44,
   "metadata": {
    "collapsed": false
   },
   "outputs": [
    {
     "name": "stdout",
     "output_type": "stream",
     "text": [
      "bull dog\n",
      "German Shefferd\n",
      "12\n"
     ]
    }
   ],
   "source": [
    "#3 Do a simple exercise. Play around.\n",
    "class Dog:\n",
    "\n",
    "    kind = 'canine'         # class variable shared by all instances\n",
    "\n",
    "    def __init__(self, name):\n",
    "        self.name = name    # instance variable unique to each instance\n",
    "        self.id = 12\n",
    "\n",
    "        \n",
    "d = Dog(\"bull dog\")\n",
    "print( d.name )\n",
    "\n",
    "e = Dog(\"German Shefferd\") # Sorry for dogs spelling\n",
    "print (e.name)\n",
    "print (e.id)"
   ]
  },
  {
   "cell_type": "markdown",
   "metadata": {},
   "source": [
    "# For Other Resources of OOP, you can go below links\n",
    "https://docs.python.org/3/tutorial/classes.html\n",
    "optional: https://www.hackerearth.com/practice/python/object-oriented-programming\n",
    "optional: https://www.python-course.eu/object_oriented_programming.php\n",
    "For Data analysis and science you can explore them later by your own interest but not much needed by us for now.    \n",
    "    \n",
    "But let us discuss some \n",
    "\n",
    "### What is Inheritance\n",
    "In inheritance an object is based on another object.\n",
    "\n",
    "class DerivedClassName(BaseClassName):\n",
    "    <statement-1>\n",
    "    .\n",
    "    .\n",
    "    .\n",
    "    <statement-N>\n",
    "    \n",
    "    \n",
    "\n",
    "* Python supports a form of multiple inheritance as well. A class definition with multiple base classes looks like this:\n",
    "\n",
    "class DerivedClassName(Base1, Base2, Base3):\n",
    "    <statement-1>\n",
    "    .\n",
    "    .\n",
    "    .\n",
    "    <statement-N>\n",
    "    \n",
    "    \n",
    "    \n",
    "<b> What is composition </b>\n",
    "\n",
    "In composition, we do not inherit from the base class but establish relationships between classes through the use of instance variables that are references to other objects.\n"
   ]
  },
  {
   "cell_type": "markdown",
   "metadata": {},
   "source": [
    "## Reading, Writing and Saving Files in PYTHON\n",
    "\n",
    "#### Reading Text Files:\n",
    "One way to read or write a file in Python is to use the built-in open function. The open function provides a File object that contain methods and attributes you need to read, save, and manipulate the file. In this notebook we will only cover “.txt” files. The first parameter you need is the file path and the file name."
   ]
  },
  {
   "cell_type": "code",
   "execution_count": 53,
   "metadata": {
    "collapsed": false
   },
   "outputs": [
    {
     "name": "stdout",
     "output_type": "stream",
     "text": [
      "./ABC.txt\n",
      "<_io.TextIOWrapper name='./ABC.txt' mode='r' encoding='cp1252'>\n"
     ]
    }
   ],
   "source": [
    "# We have a sample text file ABC.txt in hierarchy see it\n",
    "path = './ABC.txt'\n",
    "file = open(path, 'r')\n",
    "\n",
    "print(file.name)\n",
    "\n",
    "print(file)"
   ]
  },
  {
   "cell_type": "code",
   "execution_count": 54,
   "metadata": {
    "collapsed": false
   },
   "outputs": [
    {
     "name": "stdout",
     "output_type": "stream",
     "text": [
      "THIS IS LINE 1\n",
      "THIS IS LINE 2\n",
      "THIS IS LINE 3\n",
      "<class 'str'>\n"
     ]
    }
   ],
   "source": [
    "# Reading line by line \n",
    "# The “/n” tells python that there is a new line.\n",
    "\n",
    "lines = file.read() \n",
    "print(lines)\n",
    "print(type(lines))"
   ]
  },
  {
   "cell_type": "code",
   "execution_count": 88,
   "metadata": {
    "collapsed": true
   },
   "outputs": [],
   "source": [
    "# closing a file\n",
    "file.close()"
   ]
  },
  {
   "cell_type": "code",
   "execution_count": 56,
   "metadata": {
    "collapsed": false
   },
   "outputs": [
    {
     "name": "stdout",
     "output_type": "stream",
     "text": [
      "GO,WENT,GONE\n",
      "\n",
      "SET,SET,SET\n",
      "\n",
      "GIVE,GAVE,GIVEN\n"
     ]
    }
   ],
   "source": [
    "# A good way to open a file is below\n",
    "\n",
    "with open('./XYZ.txt','r') as file:\n",
    "    lines = file.readlines()\n",
    "    for line in lines:\n",
    "        print(line)\n",
    "\n",
    "        \n",
    "    file.close()\n",
    "# If you can improve it please do it."
   ]
  },
  {
   "cell_type": "markdown",
   "metadata": {},
   "source": [
    "## Writing to Files"
   ]
  },
  {
   "cell_type": "code",
   "execution_count": 104,
   "metadata": {
    "collapsed": true
   },
   "outputs": [],
   "source": [
    "with open('./NewFile.txt','w') as filew:\n",
    "    filew.write('Happy Learning Data scientists.\\nAre you happy? haha it is fun.')\n",
    "    filew.close()"
   ]
  },
  {
   "cell_type": "code",
   "execution_count": 106,
   "metadata": {
    "collapsed": false
   },
   "outputs": [
    {
     "name": "stdout",
     "output_type": "stream",
     "text": [
      "['Happy Learning Data scientists.\\n', 'Are you happy? haha it is fun.']\n"
     ]
    }
   ],
   "source": [
    "with open('./NewFile.txt','r') as filer:\n",
    "    print(filer.readlines())\n",
    "    filer.close()\n",
    "    \n",
    "# Wow great. "
   ]
  },
  {
   "cell_type": "markdown",
   "metadata": {},
   "source": [
    "### Hope we are enjoying. Now lets get a reward from this class a IBM knowledge badge to verify our knowledge. "
   ]
  },
  {
   "cell_type": "markdown",
   "metadata": {},
   "source": [
    "# Modules and Packages in Python\n",
    "#### A Python module is simply a Python source file, which can expose classes, functions and global variables.\n",
    "\n",
    "When imported from another Python source file, the file name is treated as a namespace.\n",
    "\n",
    "A Python package is simply a directory of Python module(s).\n",
    "\n",
    "For example, imagine the following directory tree in /usr/lib/python/site-packages:\n",
    "\n",
    "#### <span style=\"color:blue\">mypackage/__init__.py <-- this is what tells Python to treat this directory as a package  mypackage/mymodule.py </span>\n",
    "So then you would do:\n",
    "\n",
    "#### <span style=\"color:blue\">import mypackage.mymodule </span>\n",
    "or\n",
    "\n",
    "#### <span style=\"color:blue\">from mypackage.mymodule import myclass </span>"
   ]
  },
  {
   "cell_type": "code",
   "execution_count": 64,
   "metadata": {
    "collapsed": false
   },
   "outputs": [],
   "source": [
    "# Example\n",
    "import pandas as pd\n",
    "import numpy as np\n",
    "\n",
    "# or\n",
    "# np?\n",
    "from sklearn as sk import linear_model?\n",
    "\n",
    "\n",
    "# Can you tell panda and numpy are modules? These are the basis for data analysis\n",
    "# for more read documentation "
   ]
  },
  {
   "cell_type": "markdown",
   "metadata": {},
   "source": [
    "# Here we go. Thats it. \n",
    "\n",
    "Lets Do Some rough Exercises to remind what we learned so far. "
   ]
  },
  {
   "cell_type": "code",
   "execution_count": 10,
   "metadata": {
    "collapsed": false
   },
   "outputs": [
    {
     "name": "stdout",
     "output_type": "stream",
     "text": [
      "ABCDEFGH\n"
     ]
    }
   ],
   "source": [
    "\n",
    "\n",
    "Count=\"ABCDEFGH\"\n",
    "print(Count[::1])"
   ]
  },
  {
   "cell_type": "code",
   "execution_count": 11,
   "metadata": {
    "collapsed": false
   },
   "outputs": [
    {
     "data": {
      "text/plain": [
       "'ADDHDJJD'"
      ]
     },
     "execution_count": 11,
     "metadata": {},
     "output_type": "execute_result"
    }
   ],
   "source": [
    "aa = \"addhdjjd\"\n",
    "\n",
    "aa.upper()"
   ]
  },
  {
   "cell_type": "code",
   "execution_count": 12,
   "metadata": {
    "collapsed": false
   },
   "outputs": [
    {
     "data": {
      "text/plain": [
       "[2, 233, 4443, 45]"
      ]
     },
     "execution_count": 12,
     "metadata": {},
     "output_type": "execute_result"
    }
   ],
   "source": [
    "l = [2,233,4443,45]\n",
    "\n",
    "l"
   ]
  },
  {
   "cell_type": "code",
   "execution_count": 15,
   "metadata": {
    "collapsed": false
   },
   "outputs": [
    {
     "data": {
      "text/plain": [
       "[2, 233, 4443, 45, 33, 444, 33, 444]"
      ]
     },
     "execution_count": 15,
     "metadata": {},
     "output_type": "execute_result"
    }
   ],
   "source": [
    "l = l+[33,444]\n",
    "\n",
    "l"
   ]
  },
  {
   "cell_type": "code",
   "execution_count": 16,
   "metadata": {
    "collapsed": false
   },
   "outputs": [
    {
     "data": {
      "text/plain": [
       "{2, 33, 45, 233, 444, 4443}"
      ]
     },
     "execution_count": 16,
     "metadata": {},
     "output_type": "execute_result"
    }
   ],
   "source": [
    "set(l)"
   ]
  },
  {
   "cell_type": "code",
   "execution_count": 19,
   "metadata": {
    "collapsed": true
   },
   "outputs": [],
   "source": [
    "l.append([100,4])"
   ]
  },
  {
   "cell_type": "code",
   "execution_count": 20,
   "metadata": {
    "collapsed": false
   },
   "outputs": [
    {
     "data": {
      "text/plain": [
       "[2, 233, 4443, 45, 33, 444, 33, 444, [100], [100, 4]]"
      ]
     },
     "execution_count": 20,
     "metadata": {},
     "output_type": "execute_result"
    }
   ],
   "source": [
    "l"
   ]
  },
  {
   "cell_type": "code",
   "execution_count": 22,
   "metadata": {
    "collapsed": false
   },
   "outputs": [
    {
     "data": {
      "text/plain": [
       "[{'a': 12, 'c': 77}, [12, 33]]"
      ]
     },
     "execution_count": 22,
     "metadata": {},
     "output_type": "execute_result"
    }
   ],
   "source": [
    "[{'a':12, 'c':77}, [12,33]]"
   ]
  },
  {
   "cell_type": "code",
   "execution_count": 23,
   "metadata": {
    "collapsed": false
   },
   "outputs": [
    {
     "data": {
      "text/plain": [
       "'aaa'"
      ]
     },
     "execution_count": 23,
     "metadata": {},
     "output_type": "execute_result"
    }
   ],
   "source": [
    "'a'*3"
   ]
  },
  {
   "cell_type": "code",
   "execution_count": 26,
   "metadata": {
    "collapsed": false
   },
   "outputs": [
    {
     "name": "stdout",
     "output_type": "stream",
     "text": [
      "1 is not here\n",
      "Boom Boom\n"
     ]
    },
    {
     "data": {
      "text/plain": [
       "25"
      ]
     },
     "execution_count": 26,
     "metadata": {},
     "output_type": "execute_result"
    }
   ],
   "source": [
    "\n",
    "\n",
    "def addme(a,b):\n",
    "    \n",
    "    if(a==1):\n",
    "        print(\"1 is here we go\")\n",
    "    else:\n",
    "        print(\"1 is not here\")\n",
    "    \n",
    "    \n",
    "    print(\"Boom Boom\")\n",
    "    return a+b\n",
    "    \n",
    "\n",
    "addme(22,3)\n",
    "\n",
    "\n",
    "\n",
    "\n"
   ]
  },
  {
   "cell_type": "code",
   "execution_count": 27,
   "metadata": {
    "collapsed": false
   },
   "outputs": [
    {
     "name": "stdout",
     "output_type": "stream",
     "text": [
      "88 \n",
      "\n",
      "444 \n",
      "\n",
      "252 \n",
      "\n",
      "562 \n",
      "\n",
      "22 \n",
      "\n"
     ]
    }
   ],
   "source": [
    "def iterateLoop(L):\n",
    "    \n",
    "    for e in L:\n",
    "        print(e,\"\\n\")\n",
    "    \n",
    "\n",
    "    \n",
    "iterateLoop([88,444,252,562,22])"
   ]
  },
  {
   "cell_type": "code",
   "execution_count": 28,
   "metadata": {
    "collapsed": false
   },
   "outputs": [
    {
     "name": "stdout",
     "output_type": "stream",
     "text": [
      "44 \n",
      "\n",
      "442 \n",
      "\n",
      "22 \n",
      "\n"
     ]
    }
   ],
   "source": [
    "l = [44,442,22]\n",
    "iterateLoop(l)"
   ]
  },
  {
   "cell_type": "code",
   "execution_count": 29,
   "metadata": {
    "collapsed": false
   },
   "outputs": [
    {
     "data": {
      "text/plain": [
       "[22, 44, 442]"
      ]
     },
     "execution_count": 29,
     "metadata": {},
     "output_type": "execute_result"
    }
   ],
   "source": [
    "sorted(l)"
   ]
  },
  {
   "cell_type": "code",
   "execution_count": 30,
   "metadata": {
    "collapsed": false
   },
   "outputs": [
    {
     "data": {
      "text/plain": [
       "[44, 442, 22]"
      ]
     },
     "execution_count": 30,
     "metadata": {},
     "output_type": "execute_result"
    }
   ],
   "source": [
    "l"
   ]
  },
  {
   "cell_type": "code",
   "execution_count": 31,
   "metadata": {
    "collapsed": true
   },
   "outputs": [],
   "source": [
    "l.sort()"
   ]
  },
  {
   "cell_type": "code",
   "execution_count": 32,
   "metadata": {
    "collapsed": false
   },
   "outputs": [
    {
     "data": {
      "text/plain": [
       "[22, 44, 442]"
      ]
     },
     "execution_count": 32,
     "metadata": {},
     "output_type": "execute_result"
    }
   ],
   "source": [
    "l"
   ]
  }
 ],
 "metadata": {
  "kernelspec": {
   "display_name": "Python 3",
   "language": "python",
   "name": "python3"
  },
  "language_info": {
   "codemirror_mode": {
    "name": "ipython",
    "version": 3
   },
   "file_extension": ".py",
   "mimetype": "text/x-python",
   "name": "python",
   "nbconvert_exporter": "python",
   "pygments_lexer": "ipython3",
   "version": "3.6.0"
  }
 },
 "nbformat": 4,
 "nbformat_minor": 2
}
