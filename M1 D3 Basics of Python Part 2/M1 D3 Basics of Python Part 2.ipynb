{
 "cells": [
  {
   "cell_type": "markdown",
   "metadata": {},
   "source": [
    "Great Hope we did part one. Yeah, let move on and cover few more exiting basics for python\n",
    "First of all lets move on.\n",
    "We missed some topics we do them as well and much more"
   ]
  },
  {
   "cell_type": "markdown",
   "metadata": {},
   "source": [
    "## Python String:\n",
    "Strings are sequences of characters. Your name can be considered a string. Or, say you live in Australia, then your country name is \"Australia\", which is a string.\n",
    "\n",
    "Python can also manipulate strings, which can be expressed in several ways. They can be enclosed in single quotes ('...') or double quotes (\"...\")."
   ]
  },
  {
   "cell_type": "code",
   "execution_count": 1,
   "metadata": {
    "collapsed": false
   },
   "outputs": [
    {
     "data": {
      "text/plain": [
       "str"
      ]
     },
     "execution_count": 1,
     "metadata": {},
     "output_type": "execute_result"
    }
   ],
   "source": [
    "# 1\n",
    "\n",
    "hint = 'a'\n",
    "\n",
    "type(hint)"
   ]
  },
  {
   "cell_type": "code",
   "execution_count": 2,
   "metadata": {
    "collapsed": false
   },
   "outputs": [
    {
     "data": {
      "text/plain": [
       "str"
      ]
     },
     "execution_count": 2,
     "metadata": {},
     "output_type": "execute_result"
    }
   ],
   "source": [
    "# 2\n",
    "\n",
    "alpha  = \"b\"\n",
    "\n",
    "type(alpha)"
   ]
  },
  {
   "cell_type": "code",
   "execution_count": 3,
   "metadata": {
    "collapsed": false
   },
   "outputs": [
    {
     "name": "stdout",
     "output_type": "stream",
     "text": [
      "True\n",
      "<class 'bool'>\n"
     ]
    }
   ],
   "source": [
    "# Some interesting thing in python\n",
    "\n",
    "details = \"my name is hammed\"\n",
    "name = \"hammed\"\n",
    "\n",
    "print(name in details)\n",
    "\n",
    "# We will see loops and Conditions in python later \n",
    "\n",
    "if name in details:\n",
    "    print(type(name in details))\n"
   ]
  },
  {
   "cell_type": "code",
   "execution_count": 4,
   "metadata": {
    "collapsed": false
   },
   "outputs": [
    {
     "name": "stdout",
     "output_type": "stream",
     "text": [
      "HammaedZahed\n"
     ]
    }
   ],
   "source": [
    "fname = 'Hammaed'\n",
    "sname = \"Zahed\"\n",
    "\n",
    "name = fname + sname \n",
    "\n",
    "print(name)"
   ]
  },
  {
   "cell_type": "code",
   "execution_count": 46,
   "metadata": {
    "collapsed": false
   },
   "outputs": [
    {
     "name": "stdout",
     "output_type": "stream",
     "text": [
      "0\n",
      "1\n",
      "['a', 'b', 'c']\n",
      "['a', 'b', 'c']\n",
      "['a', 'b', 'c']\n"
     ]
    }
   ],
   "source": [
    "# Some Methods\n",
    "\n",
    "print ( name.index(\"H\") )\n",
    "\n",
    "print ( name.find('a') )\n",
    "\n",
    "# See how splitting works\n",
    "print ( \"a b c\".split() )\n",
    "\n",
    "print ( \"a;b;c\".split(\";\") )\n",
    "\n",
    "print ( \"a,b,c\".split(',') )\n",
    "\n",
    "# you can Explore more but lets move "
   ]
  },
  {
   "cell_type": "code",
   "execution_count": 6,
   "metadata": {
    "collapsed": false
   },
   "outputs": [
    {
     "name": "stdout",
     "output_type": "stream",
     "text": [
      "My brand is @datasavvy. I am only 70 yrs old haha. Not 10\n"
     ]
    }
   ],
   "source": [
    "# Formatting \n",
    "\n",
    "print ( \"My brand is @datasavvy. I am only %s yrs old haha.\"  %70, \"Not\", 10 )"
   ]
  },
  {
   "cell_type": "code",
   "execution_count": 7,
   "metadata": {
    "collapsed": false
   },
   "outputs": [
    {
     "name": "stdout",
     "output_type": "stream",
     "text": [
      "m\n"
     ]
    }
   ],
   "source": [
    "# See How strings help to find specific letter or character\n",
    "\n",
    "print(name[2]) # access the 3rd letter"
   ]
  },
  {
   "cell_type": "markdown",
   "metadata": {},
   "source": [
    "## Python Control Structures - Loops and Conditionals"
   ]
  },
  {
   "cell_type": "markdown",
   "metadata": {},
   "source": [
    "You can control the flow of logic in your code through various methods.\n",
    "\n",
    "Basic control flows\n",
    "\n",
    "- Selection (if statements)\n",
    "\n",
    "- Iteration (for loops)"
   ]
  },
  {
   "cell_type": "markdown",
   "metadata": {},
   "source": [
    "### Loops\n",
    "\n",
    "Lets start with for loop.\n",
    "\n",
    "If you want to run an operation on a collection of items, then you can do it using for loops. The skeleton for using the for loop is shown below.Note that the for statement line will end with a colon : and the rest of the code block must be indented with a spacing of 4 spaces or tab. An iterable is any object that can be looped on such as list, tuple, string etc.\n",
    "\n",
    "#### for item in iterable :\n",
    "    write your code here.\n",
    "    \n",
    "\n",
    "\n",
    "\n",
    "\n",
    "\n",
    "you can place any list or tuple or string in place of *<b>iterable</b>*\n"
   ]
  },
  {
   "cell_type": "code",
   "execution_count": 50,
   "metadata": {
    "collapsed": false
   },
   "outputs": [
    {
     "name": "stdout",
     "output_type": "stream",
     "text": [
      "apple\n",
      "banana\n",
      "grapes\n"
     ]
    }
   ],
   "source": [
    "# Let do some example\n",
    "# List\n",
    "fruits = ['apple', 'banana', 'grapes']\n",
    "\n",
    "\n",
    "for fruit in fruits :\n",
    "    print ( fruit )\n"
   ]
  },
  {
   "cell_type": "code",
   "execution_count": 51,
   "metadata": {
    "collapsed": false
   },
   "outputs": [
    {
     "data": {
      "text/plain": [
       "range(0, 10)"
      ]
     },
     "execution_count": 51,
     "metadata": {},
     "output_type": "execute_result"
    }
   ],
   "source": [
    "# range function\n",
    "# get help\n",
    "\n",
    "?range\n",
    "\n",
    "range(0,10)"
   ]
  },
  {
   "cell_type": "code",
   "execution_count": 53,
   "metadata": {
    "collapsed": false,
    "scrolled": false
   },
   "outputs": [
    {
     "name": "stdout",
     "output_type": "stream",
     "text": [
      "index is 0\n",
      "fruit is apple\n",
      "index is 1\n",
      "fruit is banana\n",
      "index is 2\n",
      "fruit is grapes\n"
     ]
    }
   ],
   "source": [
    "# get help on enumerate\n",
    "?enumerate\n",
    "\n",
    "for index, fruit in enumerate(fruits):\n",
    "    print(\"index is %s\" % index)\n",
    "    print(\"fruit is %s\" % fruit)\n",
    "    \n"
   ]
  },
  {
   "cell_type": "code",
   "execution_count": 11,
   "metadata": {
    "collapsed": false
   },
   "outputs": [
    {
     "name": "stdout",
     "output_type": "stream",
     "text": [
      "10\n",
      "11\n",
      "12\n",
      "13\n",
      "14\n"
     ]
    }
   ],
   "source": [
    "for i in range(10,15):\n",
    "    print(i)"
   ]
  },
  {
   "cell_type": "markdown",
   "metadata": {},
   "source": [
    "### While statement\n",
    "\n",
    "The while statement will execute a block of code as long as the condition is true. The skeleton of a while block is shown below."
   ]
  },
  {
   "cell_type": "code",
   "execution_count": 13,
   "metadata": {
    "collapsed": false
   },
   "outputs": [
    {
     "name": "stdout",
     "output_type": "stream",
     "text": [
      "0\n",
      "1\n",
      "2\n",
      "3\n",
      "4\n",
      "Hope, You are not bored hmmm O really\n"
     ]
    }
   ],
   "source": [
    "i=0\n",
    "\n",
    "while (i < 5) :\n",
    "    print (i)\n",
    "    i += 1\n",
    "    \n",
    "    \n",
    "# Explore More\n",
    "\n",
    "print(\"Hope, You are not bored hmmm O really\")"
   ]
  },
  {
   "cell_type": "markdown",
   "metadata": {},
   "source": [
    "#### Nested Loops\n"
   ]
  },
  {
   "cell_type": "code",
   "execution_count": 15,
   "metadata": {
    "collapsed": false
   },
   "outputs": [
    {
     "name": "stdout",
     "output_type": "stream",
     "text": [
      "1 x 1 = 1\n",
      "1 x 2 = 2\n",
      "2 x 1 = 2\n",
      "2 x 2 = 4\n"
     ]
    }
   ],
   "source": [
    "for i in range(1,3):\n",
    "    for j in range(1,3):\n",
    "        print('%d x %d = %d' % (i, j, i*j))"
   ]
  },
  {
   "cell_type": "markdown",
   "metadata": {},
   "source": [
    "#### If Else"
   ]
  },
  {
   "cell_type": "code",
   "execution_count": 55,
   "metadata": {
    "collapsed": false
   },
   "outputs": [
    {
     "name": "stdout",
     "output_type": "stream",
     "text": [
      "0\n",
      "Some Success\n"
     ]
    }
   ],
   "source": [
    "num = int(input())\n",
    "\n",
    "if(num == 1) :\n",
    "    print(\"Success\")\n",
    "elif num == 2 :\n",
    "    print(\"Less Success\")\n",
    "elif num > 3 :\n",
    "    print(\"Not Good at All\")\n",
    "else : \n",
    "    print(\"Some Success\")"
   ]
  },
  {
   "cell_type": "markdown",
   "metadata": {},
   "source": [
    "## Functions\n",
    "\n",
    "A function is a block of code that takes in some data and, either performs some kind of transformation and returns the transformed data, or performs some task on the data, or both. Functions are useful because they provide a high degree of modularity.\n",
    "\n",
    "Keyword def: This is the keyword used to say that a function will be defined now, and the next word that is there, is the function name.\n",
    "\n"
   ]
  },
  {
   "cell_type": "markdown",
   "metadata": {},
   "source": [
    "def name_of_the_function(arguments):\n",
    "    '''\n",
    "    doctring of the function\n",
    "    note that the function block is indented by 4 spaces\n",
    "    '''\n",
    "    \n",
    "    body of the function\n",
    "    return the return value or expression"
   ]
  },
  {
   "cell_type": "code",
   "execution_count": 28,
   "metadata": {
    "collapsed": false
   },
   "outputs": [
    {
     "name": "stdout",
     "output_type": "stream",
     "text": [
      "99\n"
     ]
    }
   ],
   "source": [
    "# write a function that multiply two numbers\n",
    "\n",
    "def Multiplier(a,b):\n",
    "    print(a*b)\n",
    "    \n",
    "\n",
    "# calling it\n",
    "Multiplier(33,3)"
   ]
  },
  {
   "cell_type": "code",
   "execution_count": 58,
   "metadata": {
    "collapsed": false
   },
   "outputs": [
    {
     "name": "stdout",
     "output_type": "stream",
     "text": [
      "99.6\n"
     ]
    }
   ],
   "source": [
    "# Returning value is too simple\n",
    "\n",
    "def Multiplier(a,b):\n",
    "    return a*b\n",
    "\n",
    "\n",
    "# calling it and get value\n",
    "mul = Multiplier(33.2,3)\n",
    "print(round(mul,2) )"
   ]
  },
  {
   "cell_type": "markdown",
   "metadata": {},
   "source": [
    "## How to count the frequency of the elements in a list?"
   ]
  },
  {
   "cell_type": "code",
   "execution_count": 7,
   "metadata": {
    "collapsed": false
   },
   "outputs": [
    {
     "name": "stdout",
     "output_type": "stream",
     "text": [
      "{1: 4, 2: 4, 3: 3, 4: 2}\n",
      "4\n",
      "2\n"
     ]
    }
   ],
   "source": [
    "# Lets do a small challenge\n",
    "\n",
    "alist = [1,1,1,1,2,2,2,2,3,3,3,4,4]\n",
    "\n",
    "# lets do this using dictionary\n",
    "dics = {}\n",
    "\n",
    "for item in alist:\n",
    "    if item in dics:\n",
    "        dics[item] =  dics[item] + 1  \n",
    "    else:\n",
    "        dics[item] = 1\n",
    "\n",
    "\n",
    "print(dics)\n",
    "\n",
    "print(dics[1])\n",
    "print(dics[4])"
   ]
  },
  {
   "cell_type": "markdown",
   "metadata": {
    "collapsed": true
   },
   "source": [
    "## Dates and Times\n",
    "\n",
    "The datetime module supplies classes for manipulating dates and times in both simple and complex ways."
   ]
  },
  {
   "cell_type": "code",
   "execution_count": 8,
   "metadata": {
    "collapsed": true
   },
   "outputs": [],
   "source": [
    "import datetime as dt"
   ]
  },
  {
   "cell_type": "code",
   "execution_count": 11,
   "metadata": {
    "collapsed": false
   },
   "outputs": [
    {
     "data": {
      "text/plain": [
       "datetime.date(2017, 10, 28)"
      ]
     },
     "execution_count": 11,
     "metadata": {},
     "output_type": "execute_result"
    }
   ],
   "source": [
    "dt.date.today()"
   ]
  },
  {
   "cell_type": "code",
   "execution_count": 29,
   "metadata": {
    "collapsed": false
   },
   "outputs": [
    {
     "data": {
      "text/plain": [
       "datetime.date(1976, 12, 25)"
      ]
     },
     "execution_count": 29,
     "metadata": {},
     "output_type": "execute_result"
    }
   ],
   "source": [
    "birthday = dt.date(1976, 12, 25)\n",
    "birthday"
   ]
  },
  {
   "cell_type": "markdown",
   "metadata": {},
   "source": [
    "### How to find your age?"
   ]
  },
  {
   "cell_type": "code",
   "execution_count": 28,
   "metadata": {
    "collapsed": false
   },
   "outputs": [
    {
     "data": {
      "text/plain": [
       "40.868493150684934"
      ]
     },
     "execution_count": 28,
     "metadata": {},
     "output_type": "execute_result"
    }
   ],
   "source": [
    "birthday = dt.date(1976, 12, 25)\n",
    "now = dt.date.today()\n",
    "\n",
    "age = now - birthday\n",
    "\n",
    "age.days/365"
   ]
  },
  {
   "cell_type": "markdown",
   "metadata": {},
   "source": [
    "## O Great! We are covering good basics contents.\n",
    "\n",
    "Now In basics Section we had a one more part.\n",
    "Let do it. "
   ]
  }
 ],
 "metadata": {
  "kernelspec": {
   "display_name": "Python 3",
   "language": "python",
   "name": "python3"
  },
  "language_info": {
   "codemirror_mode": {
    "name": "ipython",
    "version": 3
   },
   "file_extension": ".py",
   "mimetype": "text/x-python",
   "name": "python",
   "nbconvert_exporter": "python",
   "pygments_lexer": "ipython3",
   "version": "3.6.0"
  }
 },
 "nbformat": 4,
 "nbformat_minor": 2
}
